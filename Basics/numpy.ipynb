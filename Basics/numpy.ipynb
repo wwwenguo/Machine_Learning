{
 "cells": [
  {
   "cell_type": "code",
   "execution_count": 1,
   "metadata": {},
   "outputs": [
    {
     "name": "stdout",
     "output_type": "stream",
     "text": [
      "[1 2 3 5 7]\n",
      "[2. 3. 5.]\n",
      "<class 'numpy.ndarray'>\n",
      "<class 'numpy.ndarray'>\n"
     ]
    },
    {
     "data": {
      "text/plain": [
       "dtype('float32')"
      ]
     },
     "execution_count": 1,
     "metadata": {},
     "output_type": "execute_result"
    }
   ],
   "source": [
    "# numpy array format and dtype\n",
    "# an array must have the value of the same type\n",
    "import numpy as np\n",
    "a = np.array([1,2,3,5,7], dtype='i')\n",
    "b = np.array((2,3,5), dtype='f')\n",
    "print(a)\n",
    "print(b)\n",
    "print(type(a))\n",
    "print(type(b))\n",
    "a.dtype\n",
    "b.dtype"
   ]
  },
  {
   "cell_type": "code",
   "execution_count": 2,
   "metadata": {},
   "outputs": [
    {
     "name": "stdout",
     "output_type": "stream",
     "text": [
      "2\n",
      "2\n",
      "3\n"
     ]
    },
    {
     "data": {
      "text/plain": [
       "0"
      ]
     },
     "execution_count": 2,
     "metadata": {},
     "output_type": "execute_result"
    }
   ],
   "source": [
    "# numpy array dimension\n",
    "a = np.array([[1,2,3], [4,5,6]])\n",
    "print(a.ndim)\n",
    "print(a[0][1])\n",
    "# b = np.array([[1,2,3], [4,5,6], [[1,2,3], [4,5,6]]])\n",
    "# print(b.ndim)\n",
    "# b = np.array([[1,2,3],[2,4,5,7]])\n",
    "# b.ndim\n",
    "c = np.array([[[1,2,3],[4,5,6],[0,0,1]],[[-1,-2,-3],[-4,-5,-6],[0,0,-1]]])\n",
    "print(c.ndim)\n",
    "c[1,0,2]\n",
    "d = np.array([2])\n",
    "d.ndim\n",
    "e = np.array(3)\n",
    "e.ndim"
   ]
  },
  {
   "cell_type": "code",
   "execution_count": 3,
   "metadata": {},
   "outputs": [
    {
     "data": {
      "text/plain": [
       "72"
      ]
     },
     "execution_count": 3,
     "metadata": {},
     "output_type": "execute_result"
    }
   ],
   "source": [
    "# numpy array shape and size function\n",
    "c.shape\n",
    "c.shape[0]\n",
    "c.size\n",
    "c.nbytes"
   ]
  },
  {
   "cell_type": "code",
   "execution_count": 4,
   "metadata": {},
   "outputs": [
    {
     "name": "stdout",
     "output_type": "stream",
     "text": [
      "[ 0  1  2  3  4  5  6  7  8  9 10 11 12 13 14 15 16 17 18 19 20 21 22 23\n",
      " 24 25 26 27 28 29 30 31 32 33 34 35 36 37 38 39 40 41 42 43 44 45 46 47\n",
      " 48 49 50 51 52 53 54 55 56 57 58 59 60 61 62 63 64 65 66 67 68 69 70 71\n",
      " 72 73 74 75 76 77 78 79 80 81 82 83 84 85 86 87 88 89 90 91 92 93 94 95\n",
      " 96 97 98 99]\n",
      "[20 23 26 29 32 35 38 41 44 47 50 53 56 59 62 65 68 71 74 77 80 83 86 89\n",
      " 92 95 98]\n",
      "range(0, 10)\n",
      "[0, 1, 2, 3, 4, 5, 6, 7, 8, 9]\n"
     ]
    }
   ],
   "source": [
    "# numpy functions: np.arange\n",
    "aa = np.arange(100)\n",
    "print(aa)\n",
    "aa = np.arange(20,100,3) # for i in range (20,100,3)\n",
    "print(aa)\n",
    "# range function return the values one by one in for loop. here it returns an object instead of a list of numbers\n",
    "# This is why it is slower than np.arange\n",
    "print(range(10))\n",
    "print(list(range(10)))"
   ]
  },
  {
   "cell_type": "code",
   "execution_count": 5,
   "metadata": {},
   "outputs": [
    {
     "name": "stdout",
     "output_type": "stream",
     "text": [
      "[5 6 2 4 7 9 3 0 1 8]\n"
     ]
    },
    {
     "data": {
      "text/plain": [
       "int"
      ]
     },
     "execution_count": 5,
     "metadata": {},
     "output_type": "execute_result"
    },
    {
     "name": "stdout",
     "output_type": "stream",
     "text": [
      "\u001b[1;31mDocstring:\u001b[0m\n",
      "randint(low, high=None, size=None, dtype=int)\n",
      "\n",
      "Return random integers from `low` (inclusive) to `high` (exclusive).\n",
      "\n",
      "Return random integers from the \"discrete uniform\" distribution of\n",
      "the specified dtype in the \"half-open\" interval [`low`, `high`). If\n",
      "`high` is None (the default), then results are from [0, `low`).\n",
      "\n",
      ".. note::\n",
      "    New code should use the ``integers`` method of a ``default_rng()``\n",
      "    instance instead; please see the :ref:`random-quick-start`.\n",
      "\n",
      "Parameters\n",
      "----------\n",
      "low : int or array-like of ints\n",
      "    Lowest (signed) integers to be drawn from the distribution (unless\n",
      "    ``high=None``, in which case this parameter is one above the\n",
      "    *highest* such integer).\n",
      "high : int or array-like of ints, optional\n",
      "    If provided, one above the largest (signed) integer to be drawn\n",
      "    from the distribution (see above for behavior if ``high=None``).\n",
      "    If array-like, must contain integer values\n",
      "size : int or tuple of ints, optional\n",
      "    Output shape.  If the given shape is, e.g., ``(m, n, k)``, then\n",
      "    ``m * n * k`` samples are drawn.  Default is None, in which case a\n",
      "    single value is returned.\n",
      "dtype : dtype, optional\n",
      "    Desired dtype of the result. Byteorder must be native.\n",
      "    The default value is int.\n",
      "\n",
      "    .. versionadded:: 1.11.0\n",
      "\n",
      "Returns\n",
      "-------\n",
      "out : int or ndarray of ints\n",
      "    `size`-shaped array of random integers from the appropriate\n",
      "    distribution, or a single such random int if `size` not provided.\n",
      "\n",
      "See Also\n",
      "--------\n",
      "random_integers : similar to `randint`, only for the closed\n",
      "    interval [`low`, `high`], and 1 is the lowest value if `high` is\n",
      "    omitted.\n",
      "Generator.integers: which should be used for new code.\n",
      "\n",
      "Examples\n",
      "--------\n",
      ">>> np.random.randint(2, size=10)\n",
      "array([1, 0, 0, 0, 1, 1, 0, 0, 1, 0]) # random\n",
      ">>> np.random.randint(1, size=10)\n",
      "array([0, 0, 0, 0, 0, 0, 0, 0, 0, 0])\n",
      "\n",
      "Generate a 2 x 4 array of ints between 0 and 4, inclusive:\n",
      "\n",
      ">>> np.random.randint(5, size=(2, 4))\n",
      "array([[4, 0, 2, 1], # random\n",
      "       [3, 2, 2, 0]])\n",
      "\n",
      "Generate a 1 x 3 array with 3 different upper bounds\n",
      "\n",
      ">>> np.random.randint(1, [3, 5, 10])\n",
      "array([2, 2, 9]) # random\n",
      "\n",
      "Generate a 1 by 3 array with 3 different lower bounds\n",
      "\n",
      ">>> np.random.randint([1, 5, 7], 10)\n",
      "array([9, 8, 7]) # random\n",
      "\n",
      "Generate a 2 by 4 array using broadcasting with dtype of uint8\n",
      "\n",
      ">>> np.random.randint([1, 3, 5, 7], [[10], [20]], dtype=np.uint8)\n",
      "array([[ 8,  6,  9,  7], # random\n",
      "       [ 1, 16,  9, 12]], dtype=uint8)\n",
      "\u001b[1;31mType:\u001b[0m      builtin_function_or_method\n"
     ]
    }
   ],
   "source": [
    "#np.random\n",
    "bb = np.random.permutation(np.arange(10)) #shuffle the list of values\n",
    "print(bb)\n",
    "np.random.randint?\n",
    "v = np.random.randint(20,30)\n",
    "type(v)"
   ]
  },
  {
   "cell_type": "code",
   "execution_count": 15,
   "metadata": {},
   "outputs": [
    {
     "name": "stdout",
     "output_type": "stream",
     "text": [
      "[[0.53877871 0.27455957 0.90462694]\n",
      " [0.85528906 0.43202686 0.29032222]]\n"
     ]
    },
    {
     "data": {
      "text/plain": [
       "(4, 25)"
      ]
     },
     "execution_count": 15,
     "metadata": {},
     "output_type": "execute_result"
    },
    {
     "data": {
      "image/png": "[encoded data removed]",
      "text/plain": [
       "<Figure size 432x288 with 1 Axes>"
      ]
     },
     "metadata": {
      "needs_background": "light"
     },
     "output_type": "display_data"
    }
   ],
   "source": [
    "# np.reshape\n",
    "cc = np.random.rand(1000)\n",
    "import matplotlib.pyplot as plt\n",
    "plt.hist(cc)\n",
    "dd = np.random.randn(1000000)\n",
    "plt.hist(dd, bins=200)\n",
    "ee = np.random.rand(2,3)\n",
    "print(ee)\n",
    "ee.ndim\n",
    "ff = np.arange(100).reshape(4,25)\n",
    "ff.shape\n",
    "np.zeros?\n",
    "np.ones?"
   ]
  },
  {
   "cell_type": "code",
   "execution_count": 45,
   "metadata": {},
   "outputs": [
    {
     "name": "stdout",
     "output_type": "stream",
     "text": [
      "[3 4 5 6 7 8 9]\n",
      "[    0     1     2 -1200     4     5     6     7     8     9]\n",
      "[0 5]\n",
      "[9 4]\n",
      "3\n",
      "[0 1 2 3 4 5 6 7 8 9]\n",
      "[[10.  1.  6.  1.]\n",
      " [ 9.  3.  1.  9.]\n",
      " [ 3.  2.  8.  5.]\n",
      " [ 4.  1.  4.  6.]\n",
      " [ 3.  4.  4.  6.]]\n",
      "[[10.  9.  3.  4.  3.]\n",
      " [ 1.  3.  2.  1.  4.]\n",
      " [ 6.  1.  8.  4.  4.]\n",
      " [ 1.  9.  5.  6.  6.]]\n",
      "[[10.  1.  6.  1.]\n",
      " [ 9.  3.  1.  9.]\n",
      " [ 3.  2.  8.  5.]\n",
      " [ 4.  1.  4.  6.]\n",
      " [ 3.  4.  4.  6.]]\n",
      "[[ 3.  1.  1.  1.]\n",
      " [ 3.  1.  4.  5.]\n",
      " [ 4.  2.  4.  6.]\n",
      " [ 9.  3.  6.  6.]\n",
      " [10.  4.  8.  9.]]\n",
      "[[ 1.  1.  6. 10.]\n",
      " [ 1.  3.  9.  9.]\n",
      " [ 2.  3.  5.  8.]\n",
      " [ 1.  4.  4.  6.]\n",
      " [ 3.  4.  4.  6.]]\n"
     ]
    },
    {
     "name": "stdout",
     "output_type": "stream",
     "text": [
      "\u001b[1;31mDocstring:\u001b[0m\n",
      "a.sort(axis=-1, kind=None, order=None)\n",
      "\n",
      "Sort an array in-place. Refer to `numpy.sort` for full documentation.\n",
      "\n",
      "Parameters\n",
      "----------\n",
      "axis : int, optional\n",
      "    Axis along which to sort. Default is -1, which means sort along the\n",
      "    last axis.\n",
      "kind : {'quicksort', 'mergesort', 'heapsort', 'stable'}, optional\n",
      "    Sorting algorithm. The default is 'quicksort'. Note that both 'stable'\n",
      "    and 'mergesort' use timsort under the covers and, in general, the\n",
      "    actual implementation will vary with datatype. The 'mergesort' option\n",
      "    is retained for backwards compatibility.\n",
      "\n",
      "    .. versionchanged:: 1.15.0.\n",
      "       The 'stable' option was added.\n",
      "\n",
      "order : str or list of str, optional\n",
      "    When `a` is an array with fields defined, this argument specifies\n",
      "    which fields to compare first, second, etc.  A single field can\n",
      "    be specified as a string, and not all fields need be specified,\n",
      "    but unspecified fields will still be used, in the order in which\n",
      "    they come up in the dtype, to break ties.\n",
      "\n",
      "See Also\n",
      "--------\n",
      "numpy.sort : Return a sorted copy of an array.\n",
      "numpy.argsort : Indirect sort.\n",
      "numpy.lexsort : Indirect stable sort on multiple keys.\n",
      "numpy.searchsorted : Find elements in sorted array.\n",
      "numpy.partition: Partial sort.\n",
      "\n",
      "Notes\n",
      "-----\n",
      "See `numpy.sort` for notes on the different sorting algorithms.\n",
      "\n",
      "Examples\n",
      "--------\n",
      ">>> a = np.array([[1,4], [3,1]])\n",
      ">>> a.sort(axis=1)\n",
      ">>> a\n",
      "array([[1, 4],\n",
      "       [1, 3]])\n",
      ">>> a.sort(axis=0)\n",
      ">>> a\n",
      "array([[1, 3],\n",
      "       [1, 4]])\n",
      "\n",
      "Use the `order` keyword to specify a field to use when sorting a\n",
      "structured array:\n",
      "\n",
      ">>> a = np.array([('a', 2), ('c', 1)], dtype=[('x', 'S1'), ('y', int)])\n",
      ">>> a.sort(order='y')\n",
      ">>> a\n",
      "array([(b'c', 1), (b'a', 2)],\n",
      "      dtype=[('x', 'S1'), ('y', '<i8')])\n",
      "\u001b[1;31mType:\u001b[0m      builtin_function_or_method\n"
     ]
    }
   ],
   "source": [
    "# slicing in numpy - if you change the sliced array, the parant array will be changed too\n",
    "a1 = np.arange(10)\n",
    "a2 = a1[3:10]\n",
    "print(a2)\n",
    "a2[0] = -1200\n",
    "print(a1)\n",
    "# if you worry about the changable feature, make a copy before you do any changes\n",
    "a3 = a1[3:10].copy()\n",
    "print(a1[::5])\n",
    "print(a1[::-5])\n",
    "# index of certain number in an array\n",
    "idx = np.argwhere(a1==-1200)[0][0]\n",
    "print(idx)\n",
    "a1[idx] = 3\n",
    "print(a1)\n",
    "b1 = np.round(10*np.random.rand(5,4))\n",
    "print(b1)\n",
    "b1[1,2]\n",
    "b1[1,:]\n",
    "b1[1:3,2:4]\n",
    "print(b1.T)\n",
    "# linear algebra module in numpy - need to check the documentation\n",
    "import numpy.linalg as la\n",
    "la.inv(np.random.rand(3,3))\n",
    "# sort an array by row or column\n",
    "print(b1)\n",
    "print(np.sort(b1, axis=0)) # sort by column\n",
    "print(np.sort(b1, axis=-1)) # sort by row\n",
    "# sort can by also use by a string array\n",
    "b1.sort?"
   ]
  },
  {
   "cell_type": "code",
   "execution_count": 48,
   "metadata": {},
   "outputs": [
    {
     "name": "stdout",
     "output_type": "stream",
     "text": [
      "[ 0  1  2  3  4  5  6  7  8  9 10 11 12 13 14 15 16 17 18 19 20 21 22 23\n",
      " 24 25 26 27 28 29 30 31 32 33 34 35 36 37 38 39 40 41 42 43 44 45 46 47\n",
      " 48 49 50 51 52 53 54 55 56 57 58 59 60 61 62 63 64 65 66 67 68 69 70 71\n",
      " 72 73 74 75 76 77 78 79 80 81 82 83 84 85 86 87 88 89 90 91 92 93 94 95\n",
      " 96 97 98 99]\n",
      "[31 32 33 34 35 36 37 38 39]\n"
     ]
    }
   ],
   "source": [
    "# & vs and, / vs or, ~ vs not\n",
    "# former one is for array and latter one is for single object\n",
    "a = np.arange(100)\n",
    "print(a)\n",
    "b = a[(a<40) & (a>30)]\n",
    "print(b)"
   ]
  },
  {
   "cell_type": "code",
   "execution_count": 57,
   "metadata": {},
   "outputs": [
    {
     "name": "stdout",
     "output_type": "stream",
     "text": [
      "[[2 3 5]\n",
      " [5 9 6]]\n",
      "[[ 7  8 10]\n",
      " [10 14 11]]\n",
      "[[ 4  9 25]\n",
      " [25 81 36]]\n",
      "[[ 2  3  5]\n",
      " [ 6 10  7]]\n",
      "[[3. 3.]\n",
      " [8. 4.]]\n",
      "[[2. 3. 5. 3. 3.]\n",
      " [5. 9. 6. 8. 4.]]\n"
     ]
    }
   ],
   "source": [
    "# numpy broadcasting\n",
    "a = np.array([[2,3,5],[5,9,6]])\n",
    "print(a)\n",
    "b = a + 5\n",
    "print(b)\n",
    "c = a * a\n",
    "print(c)\n",
    "d = a + (np.arange(2).reshape(2,1))\n",
    "print(d)\n",
    "e = np.round(10*np.random.rand(2,2))\n",
    "print(e)\n",
    "f = np.hstack((a,e)) # horizontal stack\n",
    "print(f)"
   ]
  },
  {
   "cell_type": "code",
   "execution_count": 59,
   "metadata": {},
   "outputs": [
    {
     "name": "stdout",
     "output_type": "stream",
     "text": [
      "64.4 ms ± 687 µs per loop (mean ± std. dev. of 7 runs, 10 loops each)\n",
      "1.2 ms ± 32.6 µs per loop (mean ± std. dev. of 7 runs, 1000 loops each)\n"
     ]
    }
   ],
   "source": [
    "# for sum, numpy can be 100 times\n",
    "a = np.random.rand(1000000)\n",
    "%timeit sum(a)\n",
    "%timeit np.sum(a)\n",
    "# s = 0\n",
    "# for x in a:\n",
    "#     s+=x\n",
    "# %timeit"
   ]
  }
 ],
 "metadata": {
  "interpreter": {
   "hash": "79caa97e69a02fc41caa46f343e323af07fcb720cc7de457175551e7ed8c641a"
  },
  "kernelspec": {
   "display_name": "Python 3.9.1 64-bit",
   "name": "python3"
  },
  "language_info": {
   "codemirror_mode": {
    "name": "ipython",
    "version": 3
   },
   "file_extension": ".py",
   "mimetype": "text/x-python",
   "name": "python",
   "nbconvert_exporter": "python",
   "pygments_lexer": "ipython3",
   "version": "3.9.1"
  },
  "orig_nbformat": 4
 },
 "nbformat": 4,
 "nbformat_minor": 2
}
