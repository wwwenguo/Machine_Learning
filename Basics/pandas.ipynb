{
 "cells": [
  {
   "cell_type": "code",
   "execution_count": 21,
   "metadata": {},
   "outputs": [
    {
     "name": "stdout",
     "output_type": "stream",
     "text": [
      "1.2.4\n",
      "a    2\n",
      "b    3\n",
      "c    4\n",
      "d    5\n",
      "dtype: int64\n",
      "Index(['a', 'b', 'c', 'd'], dtype='object')\n",
      "a    2\n",
      "b    3\n",
      "c    4\n",
      "dtype: int64\n"
     ]
    }
   ],
   "source": [
    "# pandas package\n",
    "import numpy as np\n",
    "import pandas as pd\n",
    "print(pd.__version__)\n",
    "a = pd.Series([2,3,4,5], index=['a', 'b', 'c', 'd'])\n",
    "print(a)\n",
    "type(a.values)\n",
    "print(a.index)\n",
    "print(a['a':'c']) # slicing includes the last value"
   ]
  },
  {
   "cell_type": "code",
   "execution_count": 22,
   "metadata": {},
   "outputs": [
    {
     "name": "stdout",
     "output_type": "stream",
     "text": [
      "A     4.0\n",
      "A-    3.5\n",
      "B     3.0\n",
      "B-    2.5\n",
      "C     2.0\n",
      "dtype: float64\n",
      "A     85\n",
      "A-    80\n",
      "B     75\n",
      "B-    70\n",
      "C     65\n",
      "dtype: int64\n",
      "85\n",
      "85\n",
      "A     85\n",
      "A-    80\n",
      "dtype: int64\n"
     ]
    }
   ],
   "source": [
    "# pandas series - for one dimensional data\n",
    "grades_dict = {\n",
    "    'A': 4,\n",
    "    'A-': 3.5,\n",
    "    'B': 3,\n",
    "    'B-': 2.5,\n",
    "    'C': 2,\n",
    "}\n",
    "grades = pd.Series(grades_dict)\n",
    "print(grades)\n",
    "marks_dict = {\n",
    "    'A': 85,\n",
    "    'A-': 80,\n",
    "    'B': 75,\n",
    "    'B-': 70,\n",
    "    'C': 65,\n",
    "}\n",
    "marks = pd.Series(marks_dict)\n",
    "print(marks)\n",
    "print(marks['A'])\n",
    "print(marks.A)\n",
    "print(marks[0:2])"
   ]
  },
  {
   "cell_type": "code",
   "execution_count": 31,
   "metadata": {},
   "outputs": [
    {
     "name": "stdout",
     "output_type": "stream",
     "text": [
      "    Marks  Grades\n",
      "A      85     4.0\n",
      "A-     80     3.5\n",
      "B      75     3.0\n",
      "B-     70     2.5\n",
      "C      65     2.0\n",
      "           A    A-     B    B-     C\n",
      "Marks   85.0  80.0  75.0  70.0  65.0\n",
      "Grades   4.0   3.5   3.0   2.5   2.0\n",
      "[[85.   4. ]\n",
      " [80.   3.5]\n",
      " [75.   3. ]\n",
      " [70.   2.5]\n",
      " [65.   2. ]]\n",
      "75.0\n",
      "Index(['Marks', 'Grades'], dtype='object')\n",
      "Index(['A', 'A-', 'B', 'B-', 'C'], dtype='object')\n",
      "    Marks  Grades  ScaleMarks\n",
      "A      85     4.0        94.0\n",
      "A-     80     3.5        89.0\n",
      "B      75     3.0        83.0\n",
      "B-     70     2.5        78.0\n",
      "C      65     2.0        72.0\n",
      "   Marks  Grades  ScaleMarks\n",
      "A     85     4.0        94.0\n"
     ]
    }
   ],
   "source": [
    "# pandas dataframe\n",
    "# from series to dataframe\n",
    "a = pd.DataFrame({\n",
    "    'Marks': marks,\n",
    "    'Grades': grades,\n",
    "    })\n",
    "print(a)\n",
    "# can change the row and column\n",
    "print(a.T)\n",
    "print(a.values)\n",
    "print(a.values[2,0])\n",
    "print(a.columns)\n",
    "print(a.index)\n",
    "# add one more column\n",
    "a['ScaleMarks'] = np.round(a['Marks']/90*100)\n",
    "print(a)\n",
    "# selects data\n",
    "b = a[a['Marks']>80]\n",
    "print(b)"
   ]
  },
  {
   "cell_type": "code",
   "execution_count": 40,
   "metadata": {},
   "outputs": [
    {
     "name": "stdout",
     "output_type": "stream",
     "text": [
      "     a  b    c\n",
      "0  1.0  2  NaN\n",
      "1  NaN  3  4.0\n",
      "     a  b    c\n",
      "0  1.0  2  0.0\n",
      "1  0.0  3  4.0\n",
      "     a  b    c\n",
      "0  1.0  2  NaN\n",
      "1  NaN  3  4.0\n"
     ]
    }
   ],
   "source": [
    "# pandas NaN (none type)\n",
    "c = pd.DataFrame([\n",
    "    {'a':1, 'b':2,},\n",
    "    {'b':3, 'c':4},\n",
    "])\n",
    "print(c)\n",
    "# can only from a list of dicts\n",
    "# d = pd.DataFrame(\n",
    "#     {'a':1, 'b':2,},\n",
    "#     {'b':3, 'c':4},\n",
    "# )\n",
    "# print(d)\n",
    "print(c.fillna(0))\n",
    "print(c)\n",
    "# print(c.dropna())\n",
    "# print(c[1][1])"
   ]
  },
  {
   "cell_type": "code",
   "execution_count": 43,
   "metadata": {},
   "outputs": [
    {
     "name": "stdout",
     "output_type": "stream",
     "text": [
      "1    a\n",
      "3    b\n",
      "5    c\n",
      "dtype: object\n",
      "a\n",
      "3    b\n",
      "5    c\n",
      "dtype: object\n",
      "1    a\n",
      "3    b\n",
      "dtype: object\n",
      "3    b\n",
      "5    c\n",
      "dtype: object\n"
     ]
    }
   ],
   "source": [
    "# pandas indexing\n",
    "a = pd.Series(['a', 'b', 'c'], index=[1, 3, 5])\n",
    "print(a)\n",
    "print(a[1])\n",
    "print(a[1:3])\n",
    "print(a.loc[1:3]) # explicit\n",
    "print(a.iloc[1:3]) # imexplicit"
   ]
  }
 ],
 "metadata": {
  "interpreter": {
   "hash": "79caa97e69a02fc41caa46f343e323af07fcb720cc7de457175551e7ed8c641a"
  },
  "kernelspec": {
   "display_name": "Python 3.9.1 64-bit",
   "name": "python3"
  },
  "language_info": {
   "codemirror_mode": {
    "name": "ipython",
    "version": 3
   },
   "file_extension": ".py",
   "mimetype": "text/x-python",
   "name": "python",
   "nbconvert_exporter": "python",
   "pygments_lexer": "ipython3",
   "version": "3.9.1"
  },
  "orig_nbformat": 4
 },
 "nbformat": 4,
 "nbformat_minor": 2
}
