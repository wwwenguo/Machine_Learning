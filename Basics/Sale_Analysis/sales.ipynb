{
 "cells": [
  {
   "cell_type": "code",
   "execution_count": 37,
   "metadata": {},
   "outputs": [],
   "source": [
    "# Sales Analysis\n",
    "# Merging 12 months of sales data into a single file\n",
    "import pandas as pd\n",
    "import os\n",
    "import numpy as np\n",
    "frames = []\n",
    "foldername = 'C:\\Web_Development\\Python\\python_projects\\Sale_Analysis\\Sales_Data'\n",
    "for filename in os.listdir(foldername):\n",
    "    path = foldername + '\\\\' + filename\n",
    "    with open(path, 'r', encoding='utf-8') as fileobj:\n",
    "        month_data = pd.read_csv(fileobj)\n",
    "        frames.append(month_data)\n",
    "data = pd.concat(frames) # data.concat(data, month_data) - this way do not need to store the month_data in a list\n",
    "# print(data) # can use data.shape to check if we got all the month data\n",
    "data.to_csv(\"C:\\Web_Development\\Python\\python_projects\\Sale_Analysis\\Output\\data.csv\", index=False)"
   ]
  },
  {
   "cell_type": "code",
   "execution_count": 38,
   "metadata": {},
   "outputs": [
    {
     "name": "stdout",
     "output_type": "stream",
     "text": [
      "       Order ID  Product  Quantity Ordered  Price Each  Order Date  \\\n",
      "519    Order ID  Product  Quantity Ordered  Price Each  Order Date   \n",
      "1149   Order ID  Product  Quantity Ordered  Price Each  Order Date   \n",
      "1155   Order ID  Product  Quantity Ordered  Price Each  Order Date   \n",
      "2878   Order ID  Product  Quantity Ordered  Price Each  Order Date   \n",
      "2893   Order ID  Product  Quantity Ordered  Price Each  Order Date   \n",
      "...         ...      ...               ...         ...         ...   \n",
      "10000  Order ID  Product  Quantity Ordered  Price Each  Order Date   \n",
      "10387  Order ID  Product  Quantity Ordered  Price Each  Order Date   \n",
      "11399  Order ID  Product  Quantity Ordered  Price Each  Order Date   \n",
      "11468  Order ID  Product  Quantity Ordered  Price Each  Order Date   \n",
      "11574  Order ID  Product  Quantity Ordered  Price Each  Order Date   \n",
      "\n",
      "       Purchase Address  \n",
      "519    Purchase Address  \n",
      "1149   Purchase Address  \n",
      "1155   Purchase Address  \n",
      "2878   Purchase Address  \n",
      "2893   Purchase Address  \n",
      "...                 ...  \n",
      "10000  Purchase Address  \n",
      "10387  Purchase Address  \n",
      "11399  Purchase Address  \n",
      "11468  Purchase Address  \n",
      "11574  Purchase Address  \n",
      "\n",
      "[355 rows x 6 columns]\n",
      "<class 'pandas.core.frame.DataFrame'>\n",
      "Int64Index: 185950 entries, 0 to 11685\n",
      "Data columns (total 6 columns):\n",
      " #   Column            Non-Null Count   Dtype \n",
      "---  ------            --------------   ----- \n",
      " 0   Order ID          185950 non-null  object\n",
      " 1   Product           185950 non-null  object\n",
      " 2   Quantity Ordered  185950 non-null  object\n",
      " 3   Price Each        185950 non-null  object\n",
      " 4   Order Date        185950 non-null  object\n",
      " 5   Purchase Address  185950 non-null  object\n",
      "dtypes: object(6)\n",
      "memory usage: 9.9+ MB\n",
      "      Order ID                     Product Quantity Ordered Price Each  \\\n",
      "0       176558        USB-C Charging Cable                2      11.95   \n",
      "2       176559  Bose SoundSport Headphones                1      99.99   \n",
      "3       176560                Google Phone                1        600   \n",
      "4       176560            Wired Headphones                1      11.99   \n",
      "5       176561            Wired Headphones                1      11.99   \n",
      "...        ...                         ...              ...        ...   \n",
      "11681   259353      AAA Batteries (4-pack)                3       2.99   \n",
      "11682   259354                      iPhone                1        700   \n",
      "11683   259355                      iPhone                1        700   \n",
      "11684   259356      34in Ultrawide Monitor                1     379.99   \n",
      "11685   259357        USB-C Charging Cable                1      11.95   \n",
      "\n",
      "           Order Date                         Purchase Address  Month  \n",
      "0      04/19/19 08:46             917 1st St, Dallas, TX 75001      4  \n",
      "2      04/07/19 22:30        682 Chestnut St, Boston, MA 02215      4  \n",
      "3      04/12/19 14:38     669 Spruce St, Los Angeles, CA 90001      4  \n",
      "4      04/12/19 14:38     669 Spruce St, Los Angeles, CA 90001      4  \n",
      "5      04/30/19 09:27        333 8th St, Los Angeles, CA 90001      4  \n",
      "...               ...                                      ...    ...  \n",
      "11681  09/17/19 20:56   840 Highland St, Los Angeles, CA 90001      9  \n",
      "11682  09/01/19 16:00  216 Dogwood St, San Francisco, CA 94016      9  \n",
      "11683  09/23/19 07:39     220 12th St, San Francisco, CA 94016      9  \n",
      "11684  09/19/19 17:30   511 Forest St, San Francisco, CA 94016      9  \n",
      "11685  09/30/19 00:18   250 Meadow St, San Francisco, CA 94016      9  \n",
      "\n",
      "[185950 rows x 7 columns]\n"
     ]
    }
   ],
   "source": [
    "# Augment data with extra cells\n",
    "# clean up the data\n",
    "data.dropna(how='all', inplace=True)\n",
    "# data.info()\n",
    "or_data = data[data['Order Date'].str[0:2] == 'Or']\n",
    "print(or_data)\n",
    "data = data[data['Order Date'].str[0:2] != 'Or']\n",
    "data.info()\n",
    "# Add month colum\n",
    "data['Month'] = data['Order Date'].str[0:2].astype('int32')\n",
    "print(data)"
   ]
  },
  {
   "cell_type": "code",
   "execution_count": 45,
   "metadata": {},
   "outputs": [
    {
     "data": {
      "image/png": "[encoded data removed]",
      "text/plain": [
       "<Figure size 432x288 with 1 Axes>"
      ]
     },
     "metadata": {
      "needs_background": "light"
     },
     "output_type": "display_data"
    }
   ],
   "source": [
    "# What was the best month for sales? How much was earned that month? - groupby function\n",
    "data['Quantity Ordered'] = pd.to_numeric(data['Quantity Ordered'])\n",
    "data['Price Each'] = pd.to_numeric(data['Price Each'])\n",
    "data['Sales'] = data['Quantity Ordered'] * data['Price Each']\n",
    "# print(data.head())\n",
    "results = data.groupby('Month').sum()\n",
    "import matplotlib.pyplot as plt\n",
    "month = range(1,13)\n",
    "plt.bar(month, results['Sales'])\n",
    "plt.xticks(month)\n",
    "plt.xlabel('Month')\n",
    "plt.ylabel('Sales in USD($)')\n",
    "plt.show()"
   ]
  },
  {
   "cell_type": "code",
   "execution_count": 47,
   "metadata": {},
   "outputs": [
    {
     "name": "stdout",
     "output_type": "stream",
     "text": [
      "      Order ID                     Product  Quantity Ordered  Price Each  \\\n",
      "0       176558        USB-C Charging Cable                 2       11.95   \n",
      "2       176559  Bose SoundSport Headphones                 1       99.99   \n",
      "3       176560                Google Phone                 1      600.00   \n",
      "4       176560            Wired Headphones                 1       11.99   \n",
      "5       176561            Wired Headphones                 1       11.99   \n",
      "...        ...                         ...               ...         ...   \n",
      "11681   259353      AAA Batteries (4-pack)                 3        2.99   \n",
      "11682   259354                      iPhone                 1      700.00   \n",
      "11683   259355                      iPhone                 1      700.00   \n",
      "11684   259356      34in Ultrawide Monitor                 1      379.99   \n",
      "11685   259357        USB-C Charging Cable                 1       11.95   \n",
      "\n",
      "           Order Date                         Purchase Address  Month   Sales  \\\n",
      "0      04/19/19 08:46             917 1st St, Dallas, TX 75001      4   23.90   \n",
      "2      04/07/19 22:30        682 Chestnut St, Boston, MA 02215      4   99.99   \n",
      "3      04/12/19 14:38     669 Spruce St, Los Angeles, CA 90001      4  600.00   \n",
      "4      04/12/19 14:38     669 Spruce St, Los Angeles, CA 90001      4   11.99   \n",
      "5      04/30/19 09:27        333 8th St, Los Angeles, CA 90001      4   11.99   \n",
      "...               ...                                      ...    ...     ...   \n",
      "11681  09/17/19 20:56   840 Highland St, Los Angeles, CA 90001      9    8.97   \n",
      "11682  09/01/19 16:00  216 Dogwood St, San Francisco, CA 94016      9  700.00   \n",
      "11683  09/23/19 07:39     220 12th St, San Francisco, CA 94016      9  700.00   \n",
      "11684  09/19/19 17:30   511 Forest St, San Francisco, CA 94016      9  379.99   \n",
      "11685  09/30/19 00:18   250 Meadow St, San Francisco, CA 94016      9   11.95   \n",
      "\n",
      "                 City  \n",
      "0              Dallas  \n",
      "2              Boston  \n",
      "3         Los Angeles  \n",
      "4         Los Angeles  \n",
      "5         Los Angeles  \n",
      "...               ...  \n",
      "11681     Los Angeles  \n",
      "11682   San Francisco  \n",
      "11683   San Francisco  \n",
      "11684   San Francisco  \n",
      "11685   San Francisco  \n",
      "\n",
      "[185950 rows x 9 columns]\n"
     ]
    }
   ],
   "source": [
    "# Waht city in the US has the best sale - use the .apply function\n",
    "def get_city(address):\n",
    "    return address.split(',')[1]\n",
    "\n",
    "data['City'] = data['Purchase Address'].apply(lambda x: get_city(x)) # can change get_city to any other functions\n",
    "# data['City'] = data['Purchase Address'].apply(lambda x: x.split(',')[1])\n",
    "print(data)"
   ]
  }
 ],
 "metadata": {
  "interpreter": {
   "hash": "79caa97e69a02fc41caa46f343e323af07fcb720cc7de457175551e7ed8c641a"
  },
  "kernelspec": {
   "display_name": "Python 3.9.1 64-bit",
   "name": "python3"
  },
  "language_info": {
   "codemirror_mode": {
    "name": "ipython",
    "version": 3
   },
   "file_extension": ".py",
   "mimetype": "text/x-python",
   "name": "python",
   "nbconvert_exporter": "python",
   "pygments_lexer": "ipython3",
   "version": "3.9.1"
  },
  "orig_nbformat": 4
 },
 "nbformat": 4,
 "nbformat_minor": 2
}
